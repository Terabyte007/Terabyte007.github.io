{
  "nbformat": 4,
  "nbformat_minor": 0,
  "metadata": {
    "colab": {
      "provenance": []
    },
    "kernelspec": {
      "name": "python3",
      "display_name": "Python 3"
    },
    "language_info": {
      "name": "python"
    }
  },
  "cells": [
    {
      "cell_type": "code",
      "source": [
        "import pandas as pd\n",
        "import numpy as np\n",
        "import random\n",
        "import os\n",
        "\n",
        "os.makedirs(\"data\", exist_ok=True)\n",
        "\n",
        "institutions = [\"UniIbadan\", \"Unilag\", \"UniJos\", \"Uniben\", \"Uniport\", \"UniIlorin\", \"Unizik\"]\n",
        "levels = [\"100\", \"200\", \"300\", \"400\"]\n",
        "courses = [\"Medicine\", \"Engineering\", \"Law\", \"Computer Science\", \"Accounting\", \"Economics\"]\n",
        "genders = [\"Male\", \"Female\", \"\", \"Other\"]\n",
        "waec_grades = [\"5 D's\", \"8 B's\", \"7 C's\", \"8 A's\", \"9 D's\", \"8 D's\", \"5 C's\", \"6 C's\", \"5 A's\", \"5 B's\", \"8 C's\", \"6 B's\", \"9 A's\", \"6 A's\", \"9 C's\", \"6 D's\", \"7 B's\", \"9 B's\", \"\"]\n",
        "dirty_values = [\"\", \"NaN\", \"not available\", \"abc\", \" \"]\n",
        "\n",
        "def dirty_cgpa():\n",
        "    if random.random() < 0.12:\n",
        "        return random.choice(dirty_values)\n",
        "    return round(random.uniform(1.00, 5.00), 2)\n",
        "\n",
        "def dirty_utme():\n",
        "    if random.random() < 0.10:\n",
        "        return random.choice(dirty_values)\n",
        "    return str(random.randint(150, 400))\n",
        "\n",
        "rows = []\n",
        "for i in range(1, 60001):\n",
        "    student_id = f\"S{i:05d}\"\n",
        "    gender = random.choices(genders, [0.48, 0.48, 0.02, 0.02])[0]\n",
        "    institution = random.choice(institutions)\n",
        "    level = random.choice(levels)\n",
        "    course = random.choice(courses)\n",
        "    cgpa = dirty_cgpa()\n",
        "    waec_grade = random.choice(waec_grades)\n",
        "    utme = dirty_utme()\n",
        "    rows.append([student_id, gender, institution, level, course, cgpa, waec_grade, utme])\n",
        "\n",
        "df = pd.DataFrame(rows, columns=[\"Student_ID\", \"Gender\", \"Institution\", \"Level\", \"Course\", \"CGPA\", \"WAEC_Grades\", \"UTME_Score\"])\n",
        "df.to_csv(\"data/student_performance.csv\", index=False)\n",
        "print(\"Generated data/student_performance.csv with 60,000 rows.\")"
      ],
      "metadata": {
        "colab": {
          "base_uri": "https://localhost:8080/"
        },
        "id": "AoZ9E-5vACgh",
        "outputId": "ff31dd26-5ad4-4d0e-ef01-41a4cd855018"
      },
      "execution_count": 13,
      "outputs": [
        {
          "output_type": "stream",
          "name": "stdout",
          "text": [
            "Generated data/student_performance.csv with 60,000 rows.\n"
          ]
        }
      ]
    },
    {
      "cell_type": "code",
      "source": [
        "import os\n",
        "os.listdir('data')"
      ],
      "metadata": {
        "colab": {
          "base_uri": "https://localhost:8080/"
        },
        "id": "dIbu8jrf4nSz",
        "outputId": "80821585-83ac-4e99-daec-18f3ee2d849a"
      },
      "execution_count": 14,
      "outputs": [
        {
          "output_type": "execute_result",
          "data": {
            "text/plain": [
              "['student_performance.csv']"
            ]
          },
          "metadata": {},
          "execution_count": 14
        }
      ]
    },
    {
      "cell_type": "code",
      "source": [
        "from google.colab import files\n",
        "files.download('data/student_performance.csv')"
      ],
      "metadata": {
        "colab": {
          "base_uri": "https://localhost:8080/",
          "height": 17
        },
        "id": "O_uK3BUV4sRG",
        "outputId": "5c7a892d-4740-4456-9969-8363f7a07315"
      },
      "execution_count": 15,
      "outputs": [
        {
          "output_type": "display_data",
          "data": {
            "text/plain": [
              "<IPython.core.display.Javascript object>"
            ],
            "application/javascript": [
              "\n",
              "    async function download(id, filename, size) {\n",
              "      if (!google.colab.kernel.accessAllowed) {\n",
              "        return;\n",
              "      }\n",
              "      const div = document.createElement('div');\n",
              "      const label = document.createElement('label');\n",
              "      label.textContent = `Downloading \"${filename}\": `;\n",
              "      div.appendChild(label);\n",
              "      const progress = document.createElement('progress');\n",
              "      progress.max = size;\n",
              "      div.appendChild(progress);\n",
              "      document.body.appendChild(div);\n",
              "\n",
              "      const buffers = [];\n",
              "      let downloaded = 0;\n",
              "\n",
              "      const channel = await google.colab.kernel.comms.open(id);\n",
              "      // Send a message to notify the kernel that we're ready.\n",
              "      channel.send({})\n",
              "\n",
              "      for await (const message of channel.messages) {\n",
              "        // Send a message to notify the kernel that we're ready.\n",
              "        channel.send({})\n",
              "        if (message.buffers) {\n",
              "          for (const buffer of message.buffers) {\n",
              "            buffers.push(buffer);\n",
              "            downloaded += buffer.byteLength;\n",
              "            progress.value = downloaded;\n",
              "          }\n",
              "        }\n",
              "      }\n",
              "      const blob = new Blob(buffers, {type: 'application/binary'});\n",
              "      const a = document.createElement('a');\n",
              "      a.href = window.URL.createObjectURL(blob);\n",
              "      a.download = filename;\n",
              "      div.appendChild(a);\n",
              "      a.click();\n",
              "      div.remove();\n",
              "    }\n",
              "  "
            ]
          },
          "metadata": {}
        },
        {
          "output_type": "display_data",
          "data": {
            "text/plain": [
              "<IPython.core.display.Javascript object>"
            ],
            "application/javascript": [
              "download(\"download_9a672825-90c7-4042-bae2-c4eeadc8839c\", \"student_performance.csv\", 3009913)"
            ]
          },
          "metadata": {}
        }
      ]
    },
    {
      "cell_type": "code",
      "source": [],
      "metadata": {
        "id": "_b-unfBU7dzP"
      },
      "execution_count": null,
      "outputs": []
    }
  ]
}